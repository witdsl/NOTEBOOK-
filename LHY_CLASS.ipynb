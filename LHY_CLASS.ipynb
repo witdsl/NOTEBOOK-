{
 "cells": [
  {
   "cell_type": "markdown",
   "metadata": {},
   "source": [
    "1.1 Gradient Descent\n",
    "Vanilla Gradient descent \n",
    "w(t+1)=w(t)-lr(t)*g(t)  \n",
    "Adagrad \n",
    "w(t+1)=w(t)-lr(t)/a(t)*g(t)   lr(t)=lr/(t+1)  g(t) 梯度 a(t) 之前参数的均方根   \n",
    "解读：梯度大小与一次微分成正比，与二次微分成反比 \n",
    "\n",
    "Stochastic Gradient Descent(SGD)\n",
    "选择一个例子 $x^n$\n",
    "\n",
    "$  \\theta^i=\\theta^{i-1} - \\eta*\\nabla^n (\\theta^{i-1} ) $\n",
    "每看到一个数据就梯度更新一次\n",
    "\n",
    "Feature Scaling\n",
    "mean=0 std=1 的正则化\n",
    "\n",
    "Taylor Series 证明梯度下降法 "
   ]
  },
  {
   "cell_type": "markdown",
   "metadata": {},
   "source": [
    "1.2 Regression"
   ]
  },
  {
   "cell_type": "code",
   "execution_count": null,
   "metadata": {},
   "outputs": [],
   "source": []
  }
 ],
 "metadata": {
  "kernelspec": {
   "display_name": "Python 3",
   "language": "python",
   "name": "python3"
  },
  "language_info": {
   "codemirror_mode": {
    "name": "ipython",
    "version": 3
   },
   "file_extension": ".py",
   "mimetype": "text/x-python",
   "name": "python",
   "nbconvert_exporter": "python",
   "pygments_lexer": "ipython3",
   "version": "3.7.0"
  }
 },
 "nbformat": 4,
 "nbformat_minor": 2
}
